{
 "cells": [
  {
   "cell_type": "code",
   "execution_count": 4,
   "metadata": {
    "ExecuteTime": {
     "end_time": "2021-02-05T23:07:10.145892Z",
     "start_time": "2021-02-05T22:58:40.275921Z"
    }
   },
   "outputs": [
    {
     "name": "stdout",
     "output_type": "stream",
     "text": [
      "Start Preprocessing...\n",
      "Step 1 – Load Item-Entity Mappings...\n",
      "Step 2 – Prepare Knowledge Graph...\n",
      "Get Knowledge Graph\n",
      "Reading Knowledge Graph from file\n",
      "Converting Knowledge Graph...\n",
      "===============================================\n",
      "       Statistics about Knowledge Graph        \n",
      "===============================================\n",
      "Number of Entities:                    1823527\n",
      "Number of Relations:                      3695\n",
      "Number of Triples:                     9724711\n",
      "===============================================\n",
      "Step 3 – Prepare User-Item Ratings...\n",
      "Reading User-Item Ratings\n",
      "Converting User-Item Ratings\n",
      "===============================================\n",
      "       Statistics about original Dataset       \n",
      "===============================================\n",
      "Number of User:                           6040\n",
      "Number of Items:                          3883\n",
      "Number of Interactions:                1000209\n",
      "Data Sparsity:                           95.74\n",
      "===============================================\n",
      "          Statistics about our Dataset         \n",
      "===============================================\n",
      "Number of User:                           6038\n",
      "Number of Items:                          3244\n",
      "Number of Interactions:                 944836\n",
      "Data Sparsity:                           95.18\n",
      "Positive Ratings:                       540673\n",
      "                    (0.5722% of all Interactions)\n",
      "===============================================\n",
      "Step 4 – Split User-Item Ratings...\n",
      "Size of Train, Eval, Test set after split with Train: 70% | Eval: 10% | Test: 20%:\n",
      "378472 54067 108134\n",
      "Size of Train, Eval, Test set w/o all users with no positive rating in Train set:\n",
      "378472 54067 108131\n",
      "Preprocessing done.\n"
     ]
    }
   ],
   "source": [
    "!python prepare_dataset.py --dataset movielens --kg dbpedia --eval_ratio 0.1 --test_ratio 0.2"
   ]
  },
  {
   "cell_type": "markdown",
   "metadata": {},
   "source": [
    "Size of Train, Eval, Test set after split with Train: 70% | Eval: 10% | Test: 20%:\n",
    "102382 14625 29251\n",
    "Size of Train, Eval, Test set w/o all users with no positive rating in Train set:\n",
    "102381 14625 29250\n",
    "Preprocessing done."
   ]
  }
 ],
 "metadata": {
  "kernelspec": {
   "display_name": "Python 3",
   "language": "python",
   "name": "python3"
  },
  "language_info": {
   "codemirror_mode": {
    "name": "ipython",
    "version": 3
   },
   "file_extension": ".py",
   "mimetype": "text/x-python",
   "name": "python",
   "nbconvert_exporter": "python",
   "pygments_lexer": "ipython3",
   "version": "3.6.9"
  },
  "toc": {
   "base_numbering": 1,
   "nav_menu": {},
   "number_sections": true,
   "sideBar": true,
   "skip_h1_title": false,
   "title_cell": "Table of Contents",
   "title_sidebar": "Contents",
   "toc_cell": false,
   "toc_position": {},
   "toc_section_display": true,
   "toc_window_display": false
  },
  "varInspector": {
   "cols": {
    "lenName": 16,
    "lenType": 16,
    "lenVar": 40
   },
   "kernels_config": {
    "python": {
     "delete_cmd_postfix": "",
     "delete_cmd_prefix": "del ",
     "library": "var_list.py",
     "varRefreshCmd": "print(var_dic_list())"
    },
    "r": {
     "delete_cmd_postfix": ") ",
     "delete_cmd_prefix": "rm(",
     "library": "var_list.r",
     "varRefreshCmd": "cat(var_dic_list()) "
    }
   },
   "types_to_exclude": [
    "module",
    "function",
    "builtin_function_or_method",
    "instance",
    "_Feature"
   ],
   "window_display": false
  }
 },
 "nbformat": 4,
 "nbformat_minor": 2
}
