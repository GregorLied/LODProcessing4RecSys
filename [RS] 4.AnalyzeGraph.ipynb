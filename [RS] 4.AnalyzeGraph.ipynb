{
 "cells": [
  {
   "cell_type": "code",
   "execution_count": 2,
   "metadata": {
    "ExecuteTime": {
     "end_time": "2021-02-05T21:27:54.569561Z",
     "start_time": "2021-02-05T21:27:54.079373Z"
    }
   },
   "outputs": [],
   "source": [
    "import rdflib\n",
    "from tqdm import tqdm\n",
    "from collections import Counter\n",
    "import numpy as np\n",
    "import pandas as pd\n",
    "import matplotlib.pyplot as plt\n",
    "\n",
    "def analyze_graph(data, kg_type): \n",
    "  #Given a loaded Knowledge Graph and the source of the knowledge graph as kg_type, return some statistics\n",
    "\n",
    "  assert data in ['movielens', 'lastfm']\n",
    "  assert kg_type in ['DBpedia', 'Wikidata']\n",
    "\n",
    "  # Load Graph\n",
    "  graph = rdflib.Graph()\n",
    "  graph = graph.parse(f\"./{data}/2hops{kg_type}NoLiterals.nt\", format = \"nt\")\n",
    "  \n",
    "  # Get a dict containing the number of relations per entity\n",
    "  relations_per_entity = get_relation_freq_per_entity(graph)\n",
    "  relations_per_entity_sorted = sorted(relations_per_entity.items(), key=lambda kv: kv[1])\n",
    "\n",
    "  # Create an RDFlib Graph with the HDT document as a backend\n",
    "  entities = set()\n",
    "  relations = set()\n",
    "  if kg_type == \"DBpedia\":\n",
    "    for s,p,o in tqdm(graph.triples((None, None, None)), total = len(graph)):\n",
    "      entities.add(s)\n",
    "      if isinstance(o, rdflib.term.URIRef):\n",
    "        if o.startswith(\"http://dbpedia.org/resource/\"):\n",
    "          entities.add(o)\n",
    "          relations.add(p)\n",
    "\n",
    "  elif kg_type == \"Wikidata\":\n",
    "    for s,p,o in tqdm(graph.triples((None, None, None)), total = len(graph)):\n",
    "      entities.add(s)\n",
    "      if isinstance(o, rdflib.term.URIRef):\n",
    "        if o.startswith(\"http://www.wikidata.org/entity/Q\"):\n",
    "          entities.add(o)\n",
    "          relations.add(p)\n",
    "\n",
    "  n_entities = len(entities)\n",
    "  n_relations = len(relations)\n",
    "  n_triples = len(graph)\n",
    "\n",
    "  print()\n",
    "  print(f\"Number of Entities: {n_entities:>10}\")\n",
    "  print(f\"Number of Relations: {n_relations:>10}\")\n",
    "  print(f\"Number of Triples: {n_triples:>10}\")\n",
    "\n",
    "  return relations_per_entity_sorted, entities, relations, n_entities, n_relations, n_triples\n",
    "\n",
    "def get_relation_freq_per_entity(graph):\n",
    "  # Given a Knowledge Graph, return a dict containing the number of relations per entity\n",
    "\n",
    "  relations_per_entity = {}\n",
    "  for s,p,o in tqdm(graph.triples((None, None, None)), total = len(graph)):\n",
    "    relations_per_entity[s] = relations_per_entity.get(s, 0) + 1\n",
    "\n",
    "  return relations_per_entity"
   ]
  },
  {
   "cell_type": "markdown",
   "metadata": {},
   "source": [
    "## Analyze Bipartite Graph\n",
    "### Movielens"
   ]
  },
  {
   "cell_type": "code",
   "execution_count": null,
   "metadata": {
    "ExecuteTime": {
     "end_time": "2021-02-05T21:20:40.330122Z",
     "start_time": "2021-02-05T21:20:36.845970Z"
    }
   },
   "outputs": [],
   "source": [
    "ratings = pd.read_csv(f'./movielens/ratings.dat', sep='::', header=None, index_col = None, engine='python')\n",
    "mappings = pd.read_csv(f'./movielens/Mapping2DBpedia-1.2-corrected.tsv', sep='\\t', header=None, engine='python')\n",
    "# mappings = pd.read_csv(f'./movielens/Mapping2Wikidata-1.2-corrected.tsv', sep='\\t', header=None, engine='python')\n",
    "\n",
    "# Get all Movie IDs, that successfully contain a mapping\n",
    "mapped_movie_ids = mappings[0].unique().tolist()\n",
    "# Subset Rating DF, according to the Mapped Movies\n",
    "ratings = ratings[ratings[1].isin(mapped_movie_ids)]\n",
    "# Get Positive Ratings > 4\n",
    "positive_ratings = ratings.loc[ratings[2] >= 4]\n",
    "\n",
    "# Get numbers\n",
    "n_users = len(ratings[0].unique().tolist())\n",
    "n_items = len(mapped_movie_ids)\n",
    "n_interactions = len(ratings)\n",
    "n_positive_interactions = len(positive_ratings)\n",
    "\n",
    "sparsity = (1.0 - (n_interactions * 1.0)/(n_users * n_items))*100\n",
    "\n",
    "# Print Numbers\n",
    "print()\n",
    "print(f\"Number of Users: {n_users:>10}\")\n",
    "print(f\"Number of Items: {n_items:>10}\")\n",
    "print(f\"Number of Interactions: {n_interactions:>10}\")\n",
    "print(f\"Positive Interactions: {n_positive_interactions} ({n_positive_interactions/n_interactions:.4f}% of all Interactions)\")\n",
    "print(f\"Data Sparsity: {sparsity}\")"
   ]
  },
  {
   "cell_type": "code",
   "execution_count": null,
   "metadata": {
    "ExecuteTime": {
     "end_time": "2021-02-05T21:20:41.325085Z",
     "start_time": "2021-02-05T21:20:41.318257Z"
    }
   },
   "outputs": [],
   "source": [
    "len(positive_ratings[0].unique().tolist())"
   ]
  },
  {
   "cell_type": "code",
   "execution_count": null,
   "metadata": {
    "ExecuteTime": {
     "end_time": "2021-02-05T21:20:41.681638Z",
     "start_time": "2021-02-05T21:20:41.543558Z"
    }
   },
   "outputs": [],
   "source": [
    "ratings.hist(column=2)"
   ]
  },
  {
   "cell_type": "code",
   "execution_count": null,
   "metadata": {
    "ExecuteTime": {
     "end_time": "2021-02-05T21:20:44.446133Z",
     "start_time": "2021-02-05T21:20:44.232028Z"
    }
   },
   "outputs": [],
   "source": [
    "grouped = positive_ratings.groupby(0)\n",
    "\n",
    "user_freq = np.zeros(n_users, dtype=np.int)\n",
    "for user_id, (name, group) in enumerate(grouped):\n",
    "    user_freq[user_id] = len(group)\n",
    "    \n",
    "plt.plot(user_freq, color='green')\n",
    "plt.xlabel('user id'); plt.ylabel('out-degree count'); plt.title('Out degree for different user ids')"
   ]
  },
  {
   "cell_type": "code",
   "execution_count": null,
   "metadata": {
    "ExecuteTime": {
     "end_time": "2021-02-05T21:20:45.671141Z",
     "start_time": "2021-02-05T21:20:45.493549Z"
    }
   },
   "outputs": [],
   "source": [
    "grouped = positive_ratings.groupby(1)\n",
    "\n",
    "items_freq = np.zeros(n_items, dtype=np.int)\n",
    "for item_id, (name, group) in enumerate(grouped):\n",
    "    items_freq[item_id] = len(group)\n",
    "    \n",
    "plt.plot(items_freq, color='orange')\n",
    "plt.xlabel('item id'); plt.ylabel('in-degree count'); plt.title('In degree for different item ids')"
   ]
  },
  {
   "cell_type": "markdown",
   "metadata": {},
   "source": [
    "### Last.fm"
   ]
  },
  {
   "cell_type": "code",
   "execution_count": 3,
   "metadata": {
    "ExecuteTime": {
     "end_time": "2021-02-05T21:27:57.015041Z",
     "start_time": "2021-02-05T21:27:56.604479Z"
    }
   },
   "outputs": [
    {
     "name": "stdout",
     "output_type": "stream",
     "text": [
      "\n",
      "Number of Users:       1883\n",
      "Number of Items:       8790\n",
      "Number of Interactions:      73129\n",
      "Data Sparsity: 99.55817484383657\n"
     ]
    }
   ],
   "source": [
    "user_artist_ratings = pd.read_csv(f'./lastfm/user_artists.dat', sep='\\t', index_col = None, engine='python')\n",
    "#mappings = pd.read_csv(f'./lastfm/Mapping2DBpedia-1.2-corrected.tsv', sep='\\t', header=None, engine='python')\n",
    "mappings = pd.read_csv(f'./lastfm/Mapping2Wikidata-1.2-corrected.tsv', sep='\\t', header=None, engine='python')\n",
    "\n",
    "# Get all Movie IDs, that successfully contain a mapping\n",
    "mapped_artist_ids = mappings[0].unique().tolist()\n",
    "# Subset Rating DF, according to the Mapped Movies\n",
    "ratings = user_artist_ratings[user_artist_ratings['artistID'].isin(mapped_artist_ids)]\n",
    "\n",
    "# Get numbers\n",
    "n_users = len(ratings['userID'].unique().tolist())\n",
    "n_items = len(mapped_artist_ids)\n",
    "n_interactions = len(ratings)\n",
    "\n",
    "sparsity = (1.0 - (n_interactions * 1.0)/(n_users * n_items))*100\n",
    "\n",
    "# Print Numbers\n",
    "print()\n",
    "print(f\"Number of Users: {n_users:>10}\")\n",
    "print(f\"Number of Items: {n_items:>10}\")\n",
    "print(f\"Number of Interactions: {n_interactions:>10}\")\n",
    "print(f\"Data Sparsity: {sparsity}\")"
   ]
  },
  {
   "cell_type": "code",
   "execution_count": null,
   "metadata": {
    "ExecuteTime": {
     "end_time": "2021-02-05T21:21:54.512050Z",
     "start_time": "2021-02-05T21:21:54.502373Z"
    }
   },
   "outputs": [],
   "source": [
    "ratings"
   ]
  },
  {
   "cell_type": "code",
   "execution_count": 16,
   "metadata": {
    "ExecuteTime": {
     "end_time": "2021-02-05T21:30:33.187908Z",
     "start_time": "2021-02-05T21:30:33.046353Z"
    }
   },
   "outputs": [
    {
     "data": {
      "text/plain": [
       "Text(0.5, 1.0, 'Out degree for different user ids')"
      ]
     },
     "execution_count": 16,
     "metadata": {},
     "output_type": "execute_result"
    },
    {
     "data": {
      "image/png": "[encoded data removed]",
      "text/plain": [
       "<Figure size 432x288 with 1 Axes>"
      ]
     },
     "metadata": {
      "needs_background": "light"
     },
     "output_type": "display_data"
    }
   ],
   "source": [
    "grouped = ratings.groupby(0)\n",
    "\n",
    "user_freq = np.zeros(n_users, dtype=np.int)\n",
    "for user_id, (name, group) in enumerate(grouped):\n",
    "    user_freq[user_id] = len(group)\n",
    "    \n",
    "plt.plot(user_freq, color='green')\n",
    "plt.xlabel('user id'); plt.ylabel('out-degree count'); plt.title('Out degree for different user ids')"
   ]
  },
  {
   "cell_type": "code",
   "execution_count": 15,
   "metadata": {
    "ExecuteTime": {
     "end_time": "2021-02-05T21:30:23.866989Z",
     "start_time": "2021-02-05T21:30:23.658737Z"
    }
   },
   "outputs": [
    {
     "data": {
      "text/plain": [
       "Text(0.5, 1.0, 'In degree for different item ids')"
      ]
     },
     "execution_count": 15,
     "metadata": {},
     "output_type": "execute_result"
    },
    {
     "data": {
      "image/png": "[encoded data removed]",
      "text/plain": [
       "<Figure size 432x288 with 1 Axes>"
      ]
     },
     "metadata": {
      "needs_background": "light"
     },
     "output_type": "display_data"
    }
   ],
   "source": [
    "grouped = ratings.groupby('artistID')\n",
    "\n",
    "items_freq = np.zeros(n_items, dtype=np.int)\n",
    "for item_id, (name, group) in enumerate(grouped):\n",
    "    items_freq[item_id] = len(group)\n",
    "    \n",
    "plt.plot(items_freq, color='orange')\n",
    "plt.xlabel('item id'); plt.ylabel('in-degree count'); plt.title('In degree for different item ids')"
   ]
  },
  {
   "cell_type": "markdown",
   "metadata": {},
   "source": [
    "## Analyze Knowledge Graphs\n",
    "### Movielens"
   ]
  },
  {
   "cell_type": "code",
   "execution_count": null,
   "metadata": {
    "ExecuteTime": {
     "end_time": "2021-02-05T19:09:47.696848Z",
     "start_time": "2021-02-05T19:01:26.533988Z"
    }
   },
   "outputs": [],
   "source": [
    "# DBpedia\n",
    "relations_per_entity_sorted, entities, relations, n_entities, n_relations, n_triples = analyze_graph(data = \"movielens\", kg_type = \"DBpedia\")"
   ]
  },
  {
   "cell_type": "code",
   "execution_count": 17,
   "metadata": {
    "ExecuteTime": {
     "end_time": "2021-02-05T21:31:11.537019Z",
     "start_time": "2021-02-05T21:30:49.326985Z"
    }
   },
   "outputs": [
    {
     "name": "stderr",
     "output_type": "stream",
     "text": [
      "100%|██████████| 485961/485961 [00:01<00:00, 249950.57it/s]\n",
      "100%|██████████| 485961/485961 [00:02<00:00, 204901.83it/s]"
     ]
    },
    {
     "name": "stdout",
     "output_type": "stream",
     "text": [
      "\n",
      "Number of Entities:      99767\n",
      "Number of Relations:        525\n",
      "Number of Triples:     485961\n"
     ]
    },
    {
     "name": "stderr",
     "output_type": "stream",
     "text": [
      "\n"
     ]
    }
   ],
   "source": [
    "# Wikidata\n",
    "relations_per_entity_sorted, entities, relations, n_entities, n_relations, n_triples = analyze_graph(data = \"movielens\", kg_type = \"Wikidata\")"
   ]
  },
  {
   "cell_type": "code",
   "execution_count": 21,
   "metadata": {
    "ExecuteTime": {
     "end_time": "2021-02-05T21:34:34.223632Z",
     "start_time": "2021-02-05T21:34:34.219616Z"
    }
   },
   "outputs": [
    {
     "ename": "SyntaxError",
     "evalue": "unexpected EOF while parsing (<ipython-input-21-e9fd84566efe>, line 2)",
     "output_type": "error",
     "traceback": [
      "\u001b[0;36m  File \u001b[0;32m\"<ipython-input-21-e9fd84566efe>\"\u001b[0;36m, line \u001b[0;32m2\u001b[0m\n\u001b[0;31m    for entity_id, (_,num_relations) in enumerate(relations_per_entity_sorted):\u001b[0m\n\u001b[0m                                                                               ^\u001b[0m\n\u001b[0;31mSyntaxError\u001b[0m\u001b[0;31m:\u001b[0m unexpected EOF while parsing\n"
     ]
    }
   ],
   "source": [
    "items_freq = np.zeros(n_relations, dtype=np.int)\n",
    "for entity_id, (_,num_relations) in enumerate(relations_per_entity_sorted):"
   ]
  },
  {
   "cell_type": "code",
   "execution_count": 20,
   "metadata": {
    "ExecuteTime": {
     "end_time": "2021-02-05T21:33:18.539308Z",
     "start_time": "2021-02-05T21:33:18.535380Z"
    }
   },
   "outputs": [
    {
     "data": {
      "text/plain": [
       "31274"
      ]
     },
     "execution_count": 20,
     "metadata": {},
     "output_type": "execute_result"
    }
   ],
   "source": [
    "len(relations_per_entity_sorted)"
   ]
  },
  {
   "cell_type": "markdown",
   "metadata": {},
   "source": [
    "### Wikidata"
   ]
  },
  {
   "cell_type": "code",
   "execution_count": null,
   "metadata": {
    "ExecuteTime": {
     "end_time": "2021-02-05T19:30:36.135276Z",
     "start_time": "2021-02-05T19:12:33.170510Z"
    }
   },
   "outputs": [],
   "source": [
    "# DBpedia\n",
    "relations_per_entity_sorted, entities, relations, n_entities, n_relations, n_triples = analyze_graph(data = \"lastfm\", kg_type = \"DBpedia\")"
   ]
  },
  {
   "cell_type": "code",
   "execution_count": null,
   "metadata": {
    "ExecuteTime": {
     "end_time": "2021-02-05T19:30:58.005537Z",
     "start_time": "2021-02-05T19:30:43.468647Z"
    }
   },
   "outputs": [],
   "source": [
    "# Wikidata\n",
    "relations_per_entity_sorted, entities, relations, n_entities, n_relations, n_triples = analyze_graph(data = \"lastfm\", kg_type = \"Wikidata\")"
   ]
  }
 ],
 "metadata": {
  "kernelspec": {
   "display_name": "Python 3",
   "language": "python",
   "name": "python3"
  },
  "language_info": {
   "codemirror_mode": {
    "name": "ipython",
    "version": 3
   },
   "file_extension": ".py",
   "mimetype": "text/x-python",
   "name": "python",
   "nbconvert_exporter": "python",
   "pygments_lexer": "ipython3",
   "version": "3.6.9"
  },
  "toc": {
   "base_numbering": 1,
   "nav_menu": {},
   "number_sections": true,
   "sideBar": true,
   "skip_h1_title": false,
   "title_cell": "Table of Contents",
   "title_sidebar": "Contents",
   "toc_cell": false,
   "toc_position": {},
   "toc_section_display": true,
   "toc_window_display": false
  },
  "varInspector": {
   "cols": {
    "lenName": 16,
    "lenType": 16,
    "lenVar": 40
   },
   "kernels_config": {
    "python": {
     "delete_cmd_postfix": "",
     "delete_cmd_prefix": "del ",
     "library": "var_list.py",
     "varRefreshCmd": "print(var_dic_list())"
    },
    "r": {
     "delete_cmd_postfix": ") ",
     "delete_cmd_prefix": "rm(",
     "library": "var_list.r",
     "varRefreshCmd": "cat(var_dic_list()) "
    }
   },
   "types_to_exclude": [
    "module",
    "function",
    "builtin_function_or_method",
    "instance",
    "_Feature"
   ],
   "window_display": false
  }
 },
 "nbformat": 4,
 "nbformat_minor": 2
}
